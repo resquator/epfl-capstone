{
 "cells": [
  {
   "cell_type": "code",
   "execution_count": null,
   "metadata": {},
   "outputs": [],
   "source": [
    "import pandas as pd\n",
    "import logging\n",
    "import sweetviz as sw\n",
    "import os\n",
    "import tqdm\n",
    "from datetime import datetime \n",
    "# create folder for log and sweetviz if not exists\n",
    "if not os.path.exists('log'):\n",
    "    os.makedirs('log')\n",
    "    \n",
    "\n",
    "if not os.path.exists('sweetviz'):\n",
    "    os.makedirs('sweetviz')\n",
    "\n",
    "now = datetime.now()\n",
    "w=now.strftime(\"%m%d%Y-%H%M\")\n",
    "\n",
    "logging.basicConfig(filename='logs/00-runall-' + w + '.log' ,format='%(asctime)s | %(levelname)s: %(message)s', level=20)\n",
    "logging.info('Start the full run at ' + w)\n",
    "# declare some constants\n",
    "folder = '../_anonymized/'"
   ]
  },
  {
   "cell_type": "code",
   "execution_count": null,
   "metadata": {},
   "outputs": [],
   "source": [
    "# create folder for log and sweetviz if not exists\n",
    "if not os.path.exists('logs'):\n",
    "    os.makedirs('logs')\n",
    "    \n",
    "import os\n",
    "if not os.path.exists('sweetviz'):\n",
    "    os.makedirs('sweetviz')"
   ]
  },
  {
   "cell_type": "code",
   "execution_count": null,
   "metadata": {},
   "outputs": [],
   "source": [
    "# some installation neede\n",
    "# pip install ipywidgets --user\n",
    "# pip install sweetviz --user\n",
    "# pip install yellowbrick"
   ]
  },
  {
   "cell_type": "code",
   "execution_count": null,
   "metadata": {},
   "outputs": [],
   "source": [
    "logging.info('Call the 1st Notebook: 01-anonymization.ipynb')\n",
    "# %run \"01-anonymization.ipynb\""
   ]
  },
  {
   "cell_type": "code",
   "execution_count": null,
   "metadata": {},
   "outputs": [],
   "source": [
    "print('01 - DATA SOURCES EXTRACTED AND CLEANED')"
   ]
  },
  {
   "cell_type": "code",
   "execution_count": null,
   "metadata": {},
   "outputs": [],
   "source": [
    "logging.info('Call the 2nd Notebook: 02-data-sources.ipynb')\n",
    "# %run \"02-data-sources.ipynb\""
   ]
  },
  {
   "cell_type": "code",
   "execution_count": null,
   "metadata": {},
   "outputs": [],
   "source": [
    "logging.info('02 - FINAL FILES READY TO BE MERGED IN THE TIMESERIES')"
   ]
  },
  {
   "cell_type": "code",
   "execution_count": null,
   "metadata": {},
   "outputs": [],
   "source": [
    "logging.info('Call the 3rd Notebook: 03-create_timeseries.ipynb')\n",
    "%run \"03-create_timeseries.ipynb\""
   ]
  },
  {
   "cell_type": "code",
   "execution_count": null,
   "metadata": {},
   "outputs": [],
   "source": [
    "print('03 - TIME SERIES DATASET CREATED')"
   ]
  },
  {
   "cell_type": "code",
   "execution_count": null,
   "metadata": {},
   "outputs": [],
   "source": [
    "logging.info('Call the 4th Notebook: 04-EDA-TimeSeries.ipynb')"
   ]
  },
  {
   "cell_type": "code",
   "execution_count": null,
   "metadata": {},
   "outputs": [],
   "source": [
    "%run \"04-EDA-TimeSeries_a.ipynb\"\n",
    "\n",
    "%run \"04-EDA-TimeSeries_b.ipynb\""
   ]
  },
  {
   "cell_type": "markdown",
   "metadata": {},
   "source": [
    "Running the Notebook for Timeseries tranformation"
   ]
  },
  {
   "cell_type": "code",
   "execution_count": null,
   "metadata": {},
   "outputs": [],
   "source": [
    "logging.info('Call the 5th Notebook: Transformation of the TimeSeries to a Supervised Learning problem')\n",
    "%run \"05-TimeSeries_2_SupervisedLearning-a.ipynb\""
   ]
  },
  {
   "cell_type": "code",
   "execution_count": null,
   "metadata": {},
   "outputs": [],
   "source": [
    "logging.info('Call the 6th Notebook: Explore the Supervised Dataset')\n",
    "%run \"06-EDA-SupervisedL-Dataset.ipynb\""
   ]
  },
  {
   "cell_type": "code",
   "execution_count": null,
   "metadata": {},
   "outputs": [],
   "source": [
    "logging.info('Call the 6th Notebook: Explore the Supervised Dataset')\n",
    "%run \"07-Modeling.ipynb\""
   ]
  },
  {
   "cell_type": "code",
   "execution_count": null,
   "metadata": {},
   "outputs": [],
   "source": [
    "now = datetime.now()\n",
    "w_end=now.strftime(\"%m%d%Y-%H%M\")\n",
    "logging.info('End the full run at ' + w_end)"
   ]
  },
  {
   "cell_type": "code",
   "execution_count": null,
   "metadata": {},
   "outputs": [],
   "source": [
    "logging.info('**************** I DID MY JOB ************************')"
   ]
  },
  {
   "cell_type": "code",
   "execution_count": null,
   "metadata": {},
   "outputs": [],
   "source": [
    "print('***** DONE ******')"
   ]
  },
  {
   "cell_type": "code",
   "execution_count": null,
   "metadata": {},
   "outputs": [],
   "source": []
  },
  {
   "cell_type": "code",
   "execution_count": null,
   "metadata": {},
   "outputs": [],
   "source": []
  },
  {
   "cell_type": "code",
   "execution_count": null,
   "metadata": {},
   "outputs": [],
   "source": []
  }
 ],
 "metadata": {
  "kernelspec": {
   "display_name": "Python 3",
   "language": "python",
   "name": "python3"
  },
  "language_info": {
   "codemirror_mode": {
    "name": "ipython",
    "version": 3
   },
   "file_extension": ".py",
   "mimetype": "text/x-python",
   "name": "python",
   "nbconvert_exporter": "python",
   "pygments_lexer": "ipython3",
   "version": "3.8.8"
  },
  "widgets": {
   "application/vnd.jupyter.widget-state+json": {
    "state": {},
    "version_major": 2,
    "version_minor": 0
   }
  }
 },
 "nbformat": 4,
 "nbformat_minor": 4
}
